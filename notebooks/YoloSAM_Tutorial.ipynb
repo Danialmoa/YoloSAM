{
 "cells": [
  {
   "cell_type": "markdown",
   "metadata": {},
   "source": [
    "# YoloSAM: Medical Scar Detection & Segmentation Tutorial\n",
    "\n",
    "Welcome to YoloSAM! This notebook will guide you through:\n",
    "- Installation and setup\n",
    "- Data preparation\n",
    "- Training YOLO and SAM models\n",
    "- Making predictions\n",
    "- Evaluating results\n"
   ]
  },
  {
   "cell_type": "code",
   "execution_count": null,
   "metadata": {},
   "outputs": [],
   "source": [
    "# Install YoloSAM\n",
    "!git clone https://github.com/Danialmoa/YoloSAM\n",
    "%cd YoloSAM\n",
    "!pip install -e . "
   ]
  },
  {
   "cell_type": "markdown",
   "metadata": {},
   "source": [
    "# Data preparation\n",
    "Data should be in the following format:\n",
    "\n",
    "```\n",
    "data/\n",
    "├── train/\n",
    "│   ├── images/\n",
    "│   │   ├── image1.jpg\n",
    "│   │   ├── image2.jpg\n",
    "│   │   └── ...\n",
    "│   ├── masks/\n",
    "│   │   ├── image1.jpg\n",
    "│   │   ├── image2.jpg\n",
    "│   │   └── ...\n",
    "├── val/\n",
    "│   ├── images/\n",
    "│   │   ├── image1.jpg\n",
    "│   │   ├── image2.jpg\n",
    "│   │   └── ...\n",
    "│   ├── masks/\n",
    "│   │   ├── image1.jpg\n",
    "│   │   ├── image2.jpg\n",
    "│   │   └── ...\n",
    "```"
   ]
  },
  {
   "cell_type": "code",
   "execution_count": 1,
   "metadata": {},
   "outputs": [
    {
     "name": "stdout",
     "output_type": "stream",
     "text": [
      "Processing train split...\n",
      "Found 6 mask files in train\n"
     ]
    },
    {
     "name": "stderr",
     "output_type": "stream",
     "text": [
      "Converting train: 100%|██████████| 6/6 [00:00<00:00, 402.09it/s]\n"
     ]
    },
    {
     "name": "stdout",
     "output_type": "stream",
     "text": [
      "Completed train split: 6 files processed\n",
      "Labels saved to: ../sample_data/train/labels\n",
      "Processing val split...\n",
      "Found 6 mask files in val\n"
     ]
    },
    {
     "name": "stderr",
     "output_type": "stream",
     "text": [
      "Converting val: 100%|██████████| 6/6 [00:00<00:00, 728.68it/s]"
     ]
    },
    {
     "name": "stdout",
     "output_type": "stream",
     "text": [
      "Completed val split: 6 files processed\n",
      "Labels saved to: ../sample_data/val/labels\n",
      "Dataset conversion completed!\n",
      "Your dataset structure is now:\n",
      "  ../sample_data/train/\n",
      "    images/\n",
      "    masks/\n",
      "    labels/  <- NEW\n",
      "  ../sample_data/val/\n",
      "    images/\n",
      "    masks/\n",
      "    labels/  <- NEW\n",
      "Loading pretrained YOLO model: yolo11n\n",
      "Downloading https://github.com/ultralytics/assets/releases/download/v8.3.0/yolo11n.pt to 'yolo11n.pt'...\n"
     ]
    },
    {
     "name": "stderr",
     "output_type": "stream",
     "text": [
      "\n",
      "100%|██████████| 5.35M/5.35M [00:00<00:00, 19.1MB/s]\n"
     ]
    },
    {
     "name": "stdout",
     "output_type": "stream",
     "text": [
      "Created dataset configuration at: ../sample_data/dataset.yaml\n",
      "Starting YOLO training for 10 epochs\n",
      "Starting YOLO training with configuration:\n",
      "  data: ../sample_data/dataset.yaml\n",
      "  epochs: 10\n",
      "  imgsz: 640\n",
      "  batch: 16\n",
      "  patience: 50\n",
      "  box: 7.5\n",
      "  cls: 0.5\n",
      "  dfl: 1.5\n",
      "  iou: 0.2\n",
      "  max_det: 2\n",
      "  mosaic: 0.9\n",
      "  mixup: 0.1\n",
      "  copy_paste: 0.4\n",
      "  scale: 0.5\n",
      "  fliplr: 0.5\n",
      "  flipud: 0.1\n",
      "  degrees: 15.0\n",
      "  translate: 0.3\n",
      "  hsv_h: 0.0\n",
      "  hsv_s: 0.0\n",
      "  hsv_v: 0.3\n",
      "  lr0: 0.001\n",
      "  lrf: 0.0001\n",
      "  warmup_epochs: 10\n",
      "  weight_decay: 0.001\n",
      "  save_period: 50\n",
      "  project: runs\n",
      "  name: yolo_scar_detection\n",
      "  multi_scale: True\n",
      "  device: cpu\n",
      "Ultralytics 8.3.159 🚀 Python-3.11.12 torch-2.6.0 CPU (Apple M1)\n",
      "\u001b[34m\u001b[1mengine/trainer: \u001b[0magnostic_nms=False, amp=True, augment=False, auto_augment=randaugment, batch=16, bgr=0.0, box=7.5, cache=False, cfg=None, classes=None, close_mosaic=10, cls=0.5, conf=None, copy_paste=0.4, copy_paste_mode=flip, cos_lr=False, cutmix=0.0, data=../sample_data/dataset.yaml, degrees=15.0, deterministic=True, device=cpu, dfl=1.5, dnn=False, dropout=0.0, dynamic=False, embed=None, epochs=10, erasing=0.4, exist_ok=False, fliplr=0.5, flipud=0.1, format=torchscript, fraction=1.0, freeze=None, half=False, hsv_h=0.0, hsv_s=0.0, hsv_v=0.3, imgsz=640, int8=False, iou=0.2, keras=False, kobj=1.0, line_width=None, lr0=0.001, lrf=0.0001, mask_ratio=4, max_det=2, mixup=0.1, mode=train, model=yolo11n.pt, momentum=0.937, mosaic=0.9, multi_scale=True, name=yolo_scar_detection, nbs=64, nms=False, opset=None, optimize=False, optimizer=auto, overlap_mask=True, patience=50, perspective=0.0, plots=True, pose=12.0, pretrained=True, profile=False, project=runs, rect=False, resume=False, retina_masks=False, save=True, save_conf=False, save_crop=False, save_dir=runs/yolo_scar_detection, save_frames=False, save_json=False, save_period=50, save_txt=False, scale=0.5, seed=0, shear=0.0, show=False, show_boxes=True, show_conf=True, show_labels=True, simplify=True, single_cls=False, source=None, split=val, stream_buffer=False, task=detect, time=None, tracker=botsort.yaml, translate=0.3, val=True, verbose=True, vid_stride=1, visualize=False, warmup_bias_lr=0.1, warmup_epochs=10, warmup_momentum=0.8, weight_decay=0.001, workers=8, workspace=None\n",
      "Overriding model.yaml nc=80 with nc=1\n",
      "\n",
      "                   from  n    params  module                                       arguments                     \n",
      "  0                  -1  1       464  ultralytics.nn.modules.conv.Conv             [3, 16, 3, 2]                 \n",
      "  1                  -1  1      4672  ultralytics.nn.modules.conv.Conv             [16, 32, 3, 2]                \n",
      "  2                  -1  1      6640  ultralytics.nn.modules.block.C3k2            [32, 64, 1, False, 0.25]      \n",
      "  3                  -1  1     36992  ultralytics.nn.modules.conv.Conv             [64, 64, 3, 2]                \n",
      "  4                  -1  1     26080  ultralytics.nn.modules.block.C3k2            [64, 128, 1, False, 0.25]     \n",
      "  5                  -1  1    147712  ultralytics.nn.modules.conv.Conv             [128, 128, 3, 2]              \n",
      "  6                  -1  1     87040  ultralytics.nn.modules.block.C3k2            [128, 128, 1, True]           \n",
      "  7                  -1  1    295424  ultralytics.nn.modules.conv.Conv             [128, 256, 3, 2]              \n",
      "  8                  -1  1    346112  ultralytics.nn.modules.block.C3k2            [256, 256, 1, True]           \n",
      "  9                  -1  1    164608  ultralytics.nn.modules.block.SPPF            [256, 256, 5]                 \n",
      " 10                  -1  1    249728  ultralytics.nn.modules.block.C2PSA           [256, 256, 1]                 \n",
      " 11                  -1  1         0  torch.nn.modules.upsampling.Upsample         [None, 2, 'nearest']          \n",
      " 12             [-1, 6]  1         0  ultralytics.nn.modules.conv.Concat           [1]                           \n",
      " 13                  -1  1    111296  ultralytics.nn.modules.block.C3k2            [384, 128, 1, False]          \n",
      " 14                  -1  1         0  torch.nn.modules.upsampling.Upsample         [None, 2, 'nearest']          \n",
      " 15             [-1, 4]  1         0  ultralytics.nn.modules.conv.Concat           [1]                           \n",
      " 16                  -1  1     32096  ultralytics.nn.modules.block.C3k2            [256, 64, 1, False]           \n",
      " 17                  -1  1     36992  ultralytics.nn.modules.conv.Conv             [64, 64, 3, 2]                \n",
      " 18            [-1, 13]  1         0  ultralytics.nn.modules.conv.Concat           [1]                           \n",
      " 19                  -1  1     86720  ultralytics.nn.modules.block.C3k2            [192, 128, 1, False]          \n",
      " 20                  -1  1    147712  ultralytics.nn.modules.conv.Conv             [128, 128, 3, 2]              \n",
      " 21            [-1, 10]  1         0  ultralytics.nn.modules.conv.Concat           [1]                           \n",
      " 22                  -1  1    378880  ultralytics.nn.modules.block.C3k2            [384, 256, 1, True]           \n",
      " 23        [16, 19, 22]  1    430867  ultralytics.nn.modules.head.Detect           [1, [64, 128, 256]]           \n",
      "YOLO11n summary: 181 layers, 2,590,035 parameters, 2,590,019 gradients, 6.4 GFLOPs\n",
      "\n",
      "Transferred 448/499 items from pretrained weights\n",
      "Freezing layer 'model.23.dfl.conv.weight'\n",
      "\u001b[34m\u001b[1mtrain: \u001b[0mFast image access ✅ (ping: 0.0±0.0 ms, read: 119.4±189.2 MB/s, size: 36.4 KB)\n"
     ]
    },
    {
     "name": "stderr",
     "output_type": "stream",
     "text": [
      "\u001b[34m\u001b[1mtrain: \u001b[0mScanning /Users/danialmoafi/Developer/YoloSAM/sample_data/train/labels.cache... 6 images, 0 backgrounds, 0 corrupt: 100%|██████████| 6/6 [00:00<?, ?it/s]\n"
     ]
    },
    {
     "name": "stdout",
     "output_type": "stream",
     "text": [
      "\u001b[34m\u001b[1malbumentations: \u001b[0mBlur(p=0.01, blur_limit=(3, 7)), MedianBlur(p=0.01, blur_limit=(3, 7)), ToGray(p=0.01, method='weighted_average', num_output_channels=3), CLAHE(p=0.01, clip_limit=(1.0, 4.0), tile_grid_size=(8, 8))\n",
      "\u001b[34m\u001b[1mval: \u001b[0mFast image access ✅ (ping: 0.0±0.0 ms, read: 125.6±87.4 MB/s, size: 36.4 KB)\n"
     ]
    },
    {
     "name": "stderr",
     "output_type": "stream",
     "text": [
      "\u001b[34m\u001b[1mval: \u001b[0mScanning /Users/danialmoafi/Developer/YoloSAM/sample_data/val/labels.cache... 6 images, 0 backgrounds, 0 corrupt: 100%|██████████| 6/6 [00:00<?, ?it/s]\n"
     ]
    },
    {
     "name": "stdout",
     "output_type": "stream",
     "text": [
      "Plotting labels to runs/yolo_scar_detection/labels.jpg... \n",
      "\u001b[34m\u001b[1moptimizer:\u001b[0m 'optimizer=auto' found, ignoring 'lr0=0.001' and 'momentum=0.937' and determining best 'optimizer', 'lr0' and 'momentum' automatically... \n",
      "\u001b[34m\u001b[1moptimizer:\u001b[0m AdamW(lr=0.002, momentum=0.9) with parameter groups 81 weight(decay=0.0), 88 weight(decay=0.001), 87 bias(decay=0.0)\n",
      "Image sizes 640 train, 640 val\n",
      "Using 0 dataloader workers\n",
      "Logging results to \u001b[1mruns/yolo_scar_detection\u001b[0m\n",
      "Starting training for 10 epochs...\n",
      "Closing dataloader mosaic\n",
      "\u001b[34m\u001b[1malbumentations: \u001b[0mBlur(p=0.01, blur_limit=(3, 7)), MedianBlur(p=0.01, blur_limit=(3, 7)), ToGray(p=0.01, method='weighted_average', num_output_channels=3), CLAHE(p=0.01, clip_limit=(1.0, 4.0), tile_grid_size=(8, 8))\n",
      "\n",
      "      Epoch    GPU_mem   box_loss   cls_loss   dfl_loss  Instances       Size\n"
     ]
    },
    {
     "name": "stderr",
     "output_type": "stream",
     "text": [
      "       1/10         0G      2.487      5.375      2.485          7        512: 100%|██████████| 1/1 [00:01<00:00,  1.77s/it]\n",
      "                 Class     Images  Instances      Box(P          R      mAP50  mAP50-95): 100%|██████████| 1/1 [00:02<00:00,  2.14s/it]"
     ]
    },
    {
     "name": "stdout",
     "output_type": "stream",
     "text": [
      "                   all          6          7          0          0          0          0\n"
     ]
    },
    {
     "name": "stderr",
     "output_type": "stream",
     "text": [
      "\n"
     ]
    },
    {
     "name": "stdout",
     "output_type": "stream",
     "text": [
      "\n",
      "      Epoch    GPU_mem   box_loss   cls_loss   dfl_loss  Instances       Size\n"
     ]
    },
    {
     "name": "stderr",
     "output_type": "stream",
     "text": [
      "       2/10         0G      3.887      5.429      2.585          7        352: 100%|██████████| 1/1 [00:00<00:00,  1.46it/s]\n",
      "                 Class     Images  Instances      Box(P          R      mAP50  mAP50-95): 100%|██████████| 1/1 [00:00<00:00,  1.78it/s]"
     ]
    },
    {
     "name": "stdout",
     "output_type": "stream",
     "text": [
      "                   all          6          7          0          0          0          0\n"
     ]
    },
    {
     "name": "stderr",
     "output_type": "stream",
     "text": [
      "\n"
     ]
    },
    {
     "name": "stdout",
     "output_type": "stream",
     "text": [
      "\n",
      "      Epoch    GPU_mem   box_loss   cls_loss   dfl_loss  Instances       Size\n"
     ]
    },
    {
     "name": "stderr",
     "output_type": "stream",
     "text": [
      "       3/10         0G      2.343      4.358      2.314          7        416: 100%|██████████| 1/1 [00:00<00:00,  1.02it/s]\n",
      "                 Class     Images  Instances      Box(P          R      mAP50  mAP50-95): 100%|██████████| 1/1 [00:00<00:00,  1.46it/s]"
     ]
    },
    {
     "name": "stdout",
     "output_type": "stream",
     "text": [
      "                   all          6          7          0          0          0          0\n"
     ]
    },
    {
     "name": "stderr",
     "output_type": "stream",
     "text": [
      "\n"
     ]
    },
    {
     "name": "stdout",
     "output_type": "stream",
     "text": [
      "\n",
      "      Epoch    GPU_mem   box_loss   cls_loss   dfl_loss  Instances       Size\n"
     ]
    },
    {
     "name": "stderr",
     "output_type": "stream",
     "text": [
      "       4/10         0G      2.313      6.756      2.274          7        864: 100%|██████████| 1/1 [00:04<00:00,  4.13s/it]\n",
      "                 Class     Images  Instances      Box(P          R      mAP50  mAP50-95): 100%|██████████| 1/1 [00:00<00:00,  1.74it/s]"
     ]
    },
    {
     "name": "stdout",
     "output_type": "stream",
     "text": [
      "                   all          6          7          0          0          0          0\n"
     ]
    },
    {
     "name": "stderr",
     "output_type": "stream",
     "text": [
      "\n"
     ]
    },
    {
     "name": "stdout",
     "output_type": "stream",
     "text": [
      "\n",
      "      Epoch    GPU_mem   box_loss   cls_loss   dfl_loss  Instances       Size\n"
     ]
    },
    {
     "name": "stderr",
     "output_type": "stream",
     "text": [
      "       5/10         0G      2.632      4.779      2.473          7        448: 100%|██████████| 1/1 [00:01<00:00,  1.05s/it]\n",
      "                 Class     Images  Instances      Box(P          R      mAP50  mAP50-95): 100%|██████████| 1/1 [00:00<00:00,  1.82it/s]"
     ]
    },
    {
     "name": "stdout",
     "output_type": "stream",
     "text": [
      "                   all          6          7          0          0          0          0\n"
     ]
    },
    {
     "name": "stderr",
     "output_type": "stream",
     "text": [
      "\n"
     ]
    },
    {
     "name": "stdout",
     "output_type": "stream",
     "text": [
      "\n",
      "      Epoch    GPU_mem   box_loss   cls_loss   dfl_loss  Instances       Size\n"
     ]
    },
    {
     "name": "stderr",
     "output_type": "stream",
     "text": [
      "       6/10         0G      2.188      7.842      1.955          7        928: 100%|██████████| 1/1 [00:05<00:00,  5.23s/it]\n",
      "                 Class     Images  Instances      Box(P          R      mAP50  mAP50-95): 100%|██████████| 1/1 [00:00<00:00,  1.69it/s]"
     ]
    },
    {
     "name": "stdout",
     "output_type": "stream",
     "text": [
      "                   all          6          7          0          0          0          0\n"
     ]
    },
    {
     "name": "stderr",
     "output_type": "stream",
     "text": [
      "\n"
     ]
    },
    {
     "name": "stdout",
     "output_type": "stream",
     "text": [
      "\n",
      "      Epoch    GPU_mem   box_loss   cls_loss   dfl_loss  Instances       Size\n"
     ]
    },
    {
     "name": "stderr",
     "output_type": "stream",
     "text": [
      "       7/10         0G      2.424      4.781      2.002          7        448: 100%|██████████| 1/1 [00:01<00:00,  1.21s/it]\n",
      "                 Class     Images  Instances      Box(P          R      mAP50  mAP50-95): 100%|██████████| 1/1 [00:00<00:00,  1.60it/s]"
     ]
    },
    {
     "name": "stdout",
     "output_type": "stream",
     "text": [
      "                   all          6          7          0          0          0          0\n"
     ]
    },
    {
     "name": "stderr",
     "output_type": "stream",
     "text": [
      "\n"
     ]
    },
    {
     "name": "stdout",
     "output_type": "stream",
     "text": [
      "\n",
      "      Epoch    GPU_mem   box_loss   cls_loss   dfl_loss  Instances       Size\n"
     ]
    },
    {
     "name": "stderr",
     "output_type": "stream",
     "text": [
      "       8/10         0G      2.098      5.617      2.145          7        672: 100%|██████████| 1/1 [00:02<00:00,  2.51s/it]\n",
      "                 Class     Images  Instances      Box(P          R      mAP50  mAP50-95): 100%|██████████| 1/1 [00:00<00:00,  1.73it/s]"
     ]
    },
    {
     "name": "stdout",
     "output_type": "stream",
     "text": [
      "                   all          6          7          0          0          0          0\n"
     ]
    },
    {
     "name": "stderr",
     "output_type": "stream",
     "text": [
      "\n"
     ]
    },
    {
     "name": "stdout",
     "output_type": "stream",
     "text": [
      "\n",
      "      Epoch    GPU_mem   box_loss   cls_loss   dfl_loss  Instances       Size\n"
     ]
    },
    {
     "name": "stderr",
     "output_type": "stream",
     "text": [
      "       9/10         0G      1.989      6.842      1.986          7        960: 100%|██████████| 1/1 [00:07<00:00,  7.30s/it]\n",
      "                 Class     Images  Instances      Box(P          R      mAP50  mAP50-95): 100%|██████████| 1/1 [00:00<00:00,  1.45it/s]"
     ]
    },
    {
     "name": "stdout",
     "output_type": "stream",
     "text": [
      "                   all          6          7          0          0          0          0\n"
     ]
    },
    {
     "name": "stderr",
     "output_type": "stream",
     "text": [
      "\n"
     ]
    },
    {
     "name": "stdout",
     "output_type": "stream",
     "text": [
      "\n",
      "      Epoch    GPU_mem   box_loss   cls_loss   dfl_loss  Instances       Size\n"
     ]
    },
    {
     "name": "stderr",
     "output_type": "stream",
     "text": [
      "      10/10         0G      1.881      4.918      1.833          7        640: 100%|██████████| 1/1 [00:01<00:00,  1.89s/it]\n",
      "                 Class     Images  Instances      Box(P          R      mAP50  mAP50-95): 100%|██████████| 1/1 [00:00<00:00,  1.91it/s]"
     ]
    },
    {
     "name": "stdout",
     "output_type": "stream",
     "text": [
      "                   all          6          7          0          0          0          0\n"
     ]
    },
    {
     "name": "stderr",
     "output_type": "stream",
     "text": [
      "\n"
     ]
    },
    {
     "name": "stdout",
     "output_type": "stream",
     "text": [
      "\n",
      "10 epochs completed in 0.012 hours.\n",
      "Optimizer stripped from runs/yolo_scar_detection/weights/last.pt, 5.5MB\n",
      "Optimizer stripped from runs/yolo_scar_detection/weights/best.pt, 5.5MB\n",
      "\n",
      "Validating runs/yolo_scar_detection/weights/best.pt...\n",
      "Ultralytics 8.3.159 🚀 Python-3.11.12 torch-2.6.0 CPU (Apple M1)\n",
      "YOLO11n summary (fused): 100 layers, 2,582,347 parameters, 0 gradients, 6.3 GFLOPs\n"
     ]
    },
    {
     "name": "stderr",
     "output_type": "stream",
     "text": [
      "                 Class     Images  Instances      Box(P          R      mAP50  mAP50-95): 100%|██████████| 1/1 [00:00<00:00,  1.92it/s]\n"
     ]
    },
    {
     "name": "stdout",
     "output_type": "stream",
     "text": [
      "                   all          6          7          0          0          0          0\n",
      "Speed: 0.8ms preprocess, 76.1ms inference, 0.0ms loss, 1.8ms postprocess per image\n",
      "Results saved to \u001b[1mruns/yolo_scar_detection\u001b[0m\n",
      "YOLO created output directory: runs/yolo_scar_detection/yolo_scar_detection\n",
      "Wandb mode: disabled\n",
      "Training completed!\n"
     ]
    }
   ],
   "source": [
    "# Finetune model\n",
    "# Training YOLO model (YOLO11n)\n",
    "\n",
    "# Convert masks to YOLO labels in the same folder structure.\n",
    "from utils.mask_to_yolo import MaskToYOLOConverter\n",
    "from utils.config import YOLOConfig\n",
    "from scripts.train_yolo import YOLOTrainer\n",
    "\n",
    "\n",
    "converter = MaskToYOLOConverter(class_id=0)  # 0 for 'scar' class\n",
    "\n",
    "# Convert your dataset in place\n",
    "converter.convert_dataset_inplace(\n",
    "    base_path='../sample_data',\n",
    "    min_area=5,  # Minimum area threshold (adjust as needed)\n",
    "    splits=['train', 'val']\n",
    ")\n",
    "\n",
    "config = YOLOConfig(\n",
    "    # Model settings\n",
    "    model_type=\"yolo11n\",\n",
    "    device=\"cpu\",\n",
    "    pretrained_path=\"../checkpoints\",\n",
    "    \n",
    "    # Dataset paths\n",
    "    dataset_path=\"../sample_data/train\",\n",
    "    val_dataset_path=\"../sample_data/val\",\n",
    "    class_names=['scar'],\n",
    "    \n",
    "    # Training parameters\n",
    "    epochs=10,\n",
    "    batch_size=16,\n",
    "    image_size=640,\n",
    "    patience=50,\n",
    "    \n",
    "    # Augmentation (optimized for medical scars)\n",
    "    mosaic=0.9,\n",
    "    mixup=0.1,\n",
    "    copy_paste=0.4,\n",
    "    degrees=15.0,\n",
    "    hsv_v=0.3,\n",
    "    \n",
    "    # Detection parameters\n",
    "    iou_threshold=0.2,\n",
    "    conf_threshold=0.15,\n",
    "    max_detections=2,\n",
    "    \n",
    "    # Project settings\n",
    "    project_name=\"yolo_scar_detection\",\n",
    "    experiment_name=\"enhanced_scar_detection\",\n",
    "    \n",
    "    # Wandb settings\n",
    "    wandb_project=\"YOLO-scar-detection\",\n",
    "    wandb_name=\"scar_detection_v1\",\n",
    "    wandb_mode=\"disabled\"  # Set to \"online\" to enable wandb logging\n",
    ")\n",
    "    \n",
    "# Create trainer\n",
    "trainer = YOLOTrainer(config)\n",
    "\n",
    "# Train the model\n",
    "results = trainer.train()\n"
   ]
  },
  {
   "cell_type": "markdown",
   "metadata": {},
   "source": [
    "## FineTune SAM model \n",
    "Two ways to finetune SAM model\n",
    "\n",
    "1. Using Yolo prompt\n",
    "2. Using ground truth mask\n"
   ]
  },
  {
   "cell_type": "code",
   "execution_count": null,
   "metadata": {},
   "outputs": [],
   "source": [
    "# FineTune SAM model With Yolo prompt\n",
    "\n",
    "from scripts.train_sam import TrainSAM\n",
    "from utils.dataset import SAMDataset\n",
    "from utils.config import SAMFinetuneConfig, SAMDatasetConfig\n",
    "\n",
    "finetune_config = SAMFinetuneConfig(\n",
    "        device='cpu',\n",
    "        wandb_project='SAM_finetune',\n",
    "        wandb_name='test_run',\n",
    "        model_type='vit_b',\n",
    "        sam_path='../checkpoints/sam_vit_b_01ec64.pth',\n",
    "        num_epochs=1,\n",
    "        batch_size=2,\n",
    "        learning_rate=1e-5,\n",
    "        weight_decay=1e-4,\n",
    "        lambda_bce=0.2, \n",
    "        lambda_kl=0.2,\n",
    "        sigma=1,\n",
    "        wandb_mode='disabled',\n",
    "        num_workers=0\n",
    "    )\n",
    "\n",
    "train_dataset_config = SAMDatasetConfig(\n",
    "    dataset_path='../sample_data/train/',\n",
    "    remove_nonscar=True,\n",
    "    sample_size=2,\n",
    "    point_prompt=False, # -> If True, Random generation of points base on the mask\n",
    "    box_prompt=False, # -> If True, box prompt is generated based on the mask\n",
    "    enable_direction_aug=False, # -> If True, direction augmentation is enabled\n",
    "    enable_size_aug=False, # -> If True, size augmentation is enabled\n",
    "    yolo_prompt=True, # -> If True, yolo prompt is generated based on the mask\n",
    "    yolo_model_path='../checkpoints/yolo11n.pt', # -> Path to the yolo model\n",
    "    yolo_conf_threshold=0.25, # -> Confidence threshold for yolo\n",
    "    yolo_iou_threshold=0.45, # -> IoU threshold for yolo\n",
    "    yolo_imgsz=640, # -> Image size for yolo\n",
    "    image_size=1024, \n",
    "    train=True\n",
    ")\n",
    "\n",
    "val_dataset_config = SAMDatasetConfig(\n",
    "    dataset_path='../sample_data/val/',\n",
    "    remove_nonscar=True,\n",
    "    sample_size=2,\n",
    "    point_prompt=False,\n",
    "    box_prompt=False,\n",
    "    yolo_prompt=True,\n",
    "    yolo_model_path='../checkpoints/yolo11n.pt',\n",
    "    yolo_conf_threshold=0.25,\n",
    "    yolo_iou_threshold=0.45,\n",
    "    yolo_imgsz=640,\n",
    "    image_size=1024,\n",
    "    train=False\n",
    ")\n",
    "\n",
    "train_dataset = SAMDataset(train_dataset_config)\n",
    "val_dataset = SAMDataset(val_dataset_config)\n",
    "\n",
    "trainer = TrainSAM(finetune_config, train_dataset, val_dataset)\n",
    "trainer.train(finetune_config.num_epochs)"
   ]
  },
  {
   "cell_type": "code",
   "execution_count": null,
   "metadata": {},
   "outputs": [],
   "source": [
    "# FineTune SAM model with ground truth mask\n",
    "\n",
    "from scripts.train_sam import TrainSAM\n",
    "from utils.dataset import SAMDataset\n",
    "from utils.config import SAMFinetuneConfig, SAMDatasetConfig\n",
    "\n",
    "finetune_config = SAMFinetuneConfig(\n",
    "        device='cpu',\n",
    "        wandb_project='SAM_finetune',\n",
    "        wandb_name='test_run',\n",
    "        model_type='vit_b',\n",
    "        sam_path='../checkpoints/sam_vit_b_01ec64.pth',\n",
    "        num_epochs=1,\n",
    "        batch_size=2,\n",
    "        learning_rate=1e-5,\n",
    "        weight_decay=1e-4,\n",
    "        lambda_bce=0.2, \n",
    "        lambda_kl=0.2,\n",
    "        sigma=1,\n",
    "        wandb_mode='disabled',\n",
    "        num_workers=0\n",
    "    )\n",
    "\n",
    "train_dataset_config = SAMDatasetConfig(\n",
    "    dataset_path='../sample_data/train/',\n",
    "    remove_nonscar=True, # -> If True, remove non-scar images\n",
    "    sample_size=2,\n",
    "    point_prompt=True, # -> If True, Random generation of points base on the mask\n",
    "    point_prompt_types=['positive'], # -> Types of points to generate (Negative, Positive)\n",
    "    num_points=3, # -> Number of points to generate\n",
    "    box_prompt=True, # -> If True, box prompt is generated based on the mask\n",
    "    enable_direction_aug=True, # -> If True, direction augmentation is enabled\n",
    "    enable_size_aug=True, # -> If True, size augmentation is enabled\n",
    "    yolo_prompt=False, # -> If True, yolo prompt is generated based on the mask\n",
    "    image_size=1024, \n",
    "    train=True\n",
    ")\n",
    "\n",
    "val_dataset_config = SAMDatasetConfig(\n",
    "    dataset_path='../sample_data/val/',\n",
    "    remove_nonscar=True,\n",
    "    sample_size=2,\n",
    "    point_prompt=True,\n",
    "    point_prompt_types=['positive'],\n",
    "    num_points=3,\n",
    "    box_prompt=True,\n",
    "    enable_direction_aug=False,\n",
    "    enable_size_aug=False,\n",
    "    image_size=1024,\n",
    "    train=False\n",
    ")\n",
    "\n",
    "train_dataset = SAMDataset(train_dataset_config)\n",
    "val_dataset = SAMDataset(val_dataset_config)\n",
    "\n",
    "trainer = TrainSAM(finetune_config, train_dataset, val_dataset)\n",
    "trainer.train(finetune_config.num_epochs)"
   ]
  },
  {
   "cell_type": "markdown",
   "metadata": {},
   "source": [
    "# Inference Model"
   ]
  },
  {
   "cell_type": "code",
   "execution_count": null,
   "metadata": {},
   "outputs": [],
   "source": [
    "from scripts.train_sam import TrainSAM\n",
    "from utils.dataset import SAMDataset\n",
    "from utils.config import SAMFinetuneConfig, SAMDatasetConfig\n",
    "\n",
    "\n",
    "test_dataset_config = SAMDatasetConfig(\n",
    "    dataset_path='../sample_data/test/',\n",
    "    sample_size=2,\n",
    "    point_prompt=False, # -> If True, Random generation of points base on the mask\n",
    "    yolo_prompt=True, # -> If True, yolo prompt is generated based on the mask\n",
    "    yolo_model_path='../checkpoints/yolo11n.pt', # -> Path to the yolo model\n",
    "    yolo_conf_threshold=0.25, # -> Confidence threshold for yolo\n",
    "    yolo_iou_threshold=0.45, # -> IoU threshold for yolo\n",
    "    yolo_imgsz=640, # -> Image size for yolo\n",
    "    image_size=1024, \n",
    "    train=False\n",
    ")\n",
    "\n"
   ]
  }
 ],
 "metadata": {
  "kernelspec": {
   "display_name": ".venv",
   "language": "python",
   "name": "python3"
  },
  "language_info": {
   "codemirror_mode": {
    "name": "ipython",
    "version": 3
   },
   "file_extension": ".py",
   "mimetype": "text/x-python",
   "name": "python",
   "nbconvert_exporter": "python",
   "pygments_lexer": "ipython3",
   "version": "3.11.12"
  }
 },
 "nbformat": 4,
 "nbformat_minor": 2
}
